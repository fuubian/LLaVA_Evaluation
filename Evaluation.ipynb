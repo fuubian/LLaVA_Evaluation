{
 "cells": [
  {
   "cell_type": "code",
   "execution_count": 1,
   "id": "9daddcf8",
   "metadata": {},
   "outputs": [],
   "source": [
    "from scipy.stats import kendalltau\n",
    "from sklearn.metrics import confusion_matrix\n",
    "from sklearn.metrics import accuracy_score\n",
    "from sklearn.metrics import classification_report\n",
    "from scipy.stats import spearmanr\n",
    "import warnings\n",
    "import csv\n",
    "\n",
    "warnings.filterwarnings(\"ignore\")\n",
    "def evaluate_file(file_name):\n",
    "    with open (file_name) as csvfile:\n",
    "        csvreader = csv.reader(csvfile, delimiter=\";\")\n",
    "        invalid_predictions = 0\n",
    "        machine_scores = []\n",
    "        expert_scores = []\n",
    "        for row in csvreader:\n",
    "            if row[2] == \"0\":\n",
    "                invalid_predictions += 1\n",
    "                continue\n",
    "            machine_scores.append(row[2])\n",
    "            expert_scores.append(row[3])\n",
    "        \n",
    "        print(\"Results for\",file_name)\n",
    "        print(\"Invalid predictions:\", invalid_predictions)\n",
    "        \n",
    "        print(\"Confusion Matrix:\")\n",
    "        matrix = confusion_matrix(expert_scores, machine_scores)\n",
    "        print(matrix)\n",
    "        print()\n",
    "\n",
    "        print(\"Accuracy: {}\".format(accuracy_score(expert_scores, machine_scores)))\n",
    "        print(\"Accuracy for each class:\")\n",
    "        print(matrix.diagonal()/matrix.sum(axis=1))\n",
    "        print()\n",
    "        \n",
    "        print(\"Classification Report:\")\n",
    "        print(classification_report(expert_scores, machine_scores))\n",
    "        \n",
    "        tau, p_value = kendalltau(expert_scores, machine_scores)\n",
    "        print(\"Kendalls Tau:\",tau)\n",
    "        print(\"P-Value:\",p_value)"
   ]
  },
  {
   "cell_type": "code",
   "execution_count": 2,
   "id": "00de9f9e",
   "metadata": {},
   "outputs": [
    {
     "name": "stdout",
     "output_type": "stream",
     "text": [
      "Results for llava-v1.5-7b_results.csv\n",
      "Invalid predictions: 0\n",
      "Confusion Matrix:\n",
      "[[   0    0 3313    2]\n",
      " [   0    0 1675   16]\n",
      " [   0    0  470   39]\n",
      " [   0    0  234   73]]\n",
      "\n",
      "Accuracy: 0.09326691858467881\n",
      "Accuracy for each class:\n",
      "[0.         0.         0.92337917 0.23778502]\n",
      "\n",
      "Classification Report:\n",
      "              precision    recall  f1-score   support\n",
      "\n",
      "           1       0.00      0.00      0.00      3315\n",
      "           2       0.00      0.00      0.00      1691\n",
      "           3       0.08      0.92      0.15       509\n",
      "           4       0.56      0.24      0.33       307\n",
      "\n",
      "    accuracy                           0.09      5822\n",
      "   macro avg       0.16      0.29      0.12      5822\n",
      "weighted avg       0.04      0.09      0.03      5822\n",
      "\n",
      "Kendalls Tau: 0.22999462527114223\n",
      "P-Value: 7.597395016294397e-76\n"
     ]
    }
   ],
   "source": [
    "evaluate_file(\"llava-v1.5-7b_results.csv\")"
   ]
  },
  {
   "cell_type": "code",
   "execution_count": 3,
   "id": "12a4339d",
   "metadata": {},
   "outputs": [
    {
     "name": "stdout",
     "output_type": "stream",
     "text": [
      "Results for llava-v1.5-13b_results.csv\n",
      "Invalid predictions: 15\n",
      "Confusion Matrix:\n",
      "[[3029    0  271    0]\n",
      " [ 888    0  802    1]\n",
      " [  33    0  472    4]\n",
      " [   1    0  260   46]]\n",
      "\n",
      "Accuracy: 0.6108145341828827\n",
      "Accuracy for each class:\n",
      "[0.91787879 0.         0.92730845 0.14983713]\n",
      "\n",
      "Classification Report:\n",
      "              precision    recall  f1-score   support\n",
      "\n",
      "           1       0.77      0.92      0.84      3300\n",
      "           2       0.00      0.00      0.00      1691\n",
      "           3       0.26      0.93      0.41       509\n",
      "           4       0.90      0.15      0.26       307\n",
      "\n",
      "    accuracy                           0.61      5807\n",
      "   macro avg       0.48      0.50      0.38      5807\n",
      "weighted avg       0.51      0.61      0.52      5807\n",
      "\n",
      "Kendalls Tau: 0.6212214725416733\n",
      "P-Value: 0.0\n"
     ]
    }
   ],
   "source": [
    "evaluate_file(\"llava-v1.5-13b_results.csv\")"
   ]
  },
  {
   "cell_type": "code",
   "execution_count": 4,
   "id": "2ff73204",
   "metadata": {},
   "outputs": [
    {
     "name": "stdout",
     "output_type": "stream",
     "text": [
      "Results for llava-v1.6-vicuna-7b_results.csv\n",
      "Invalid predictions: 0\n",
      "Confusion Matrix:\n",
      "[[   0   10 3302    3]\n",
      " [   0    3 1651   37]\n",
      " [   0    0  395  114]\n",
      " [   0    0  117  190]]\n",
      "\n",
      "Accuracy: 0.10099622122981793\n",
      "Accuracy for each class:\n",
      "[0.         0.0017741  0.77603143 0.61889251]\n",
      "\n",
      "Classification Report:\n",
      "              precision    recall  f1-score   support\n",
      "\n",
      "           1       0.00      0.00      0.00      3315\n",
      "           2       0.23      0.00      0.00      1691\n",
      "           3       0.07      0.78      0.13       509\n",
      "           4       0.55      0.62      0.58       307\n",
      "\n",
      "    accuracy                           0.10      5822\n",
      "   macro avg       0.21      0.35      0.18      5822\n",
      "weighted avg       0.10      0.10      0.04      5822\n",
      "\n",
      "Kendalls Tau: 0.38325152674062685\n",
      "P-Value: 1.5047128164798846e-207\n"
     ]
    }
   ],
   "source": [
    "evaluate_file(\"llava-v1.6-vicuna-7b_results.csv\")"
   ]
  },
  {
   "cell_type": "code",
   "execution_count": 5,
   "id": "a89954ca",
   "metadata": {},
   "outputs": [
    {
     "name": "stdout",
     "output_type": "stream",
     "text": [
      "Results for llava-v1.6-vicuna-13b_results.csv\n",
      "Invalid predictions: 105\n",
      "Confusion Matrix:\n",
      "[[3152   14   50    0]\n",
      " [1225   39  421    0]\n",
      " [  97   11  394    7]\n",
      " [   1    1  244   61]]\n",
      "\n",
      "Accuracy: 0.6377470701416827\n",
      "Accuracy for each class:\n",
      "[0.9800995  0.0231454  0.7740668  0.19869707]\n",
      "\n",
      "Classification Report:\n",
      "              precision    recall  f1-score   support\n",
      "\n",
      "           1       0.70      0.98      0.82      3216\n",
      "           2       0.60      0.02      0.04      1685\n",
      "           3       0.36      0.77      0.49       509\n",
      "           4       0.90      0.20      0.33       307\n",
      "\n",
      "    accuracy                           0.64      5717\n",
      "   macro avg       0.64      0.49      0.42      5717\n",
      "weighted avg       0.65      0.64      0.54      5717\n",
      "\n",
      "Kendalls Tau: 0.6201305483119269\n",
      "P-Value: 0.0\n"
     ]
    }
   ],
   "source": [
    "evaluate_file(\"llava-v1.6-vicuna-13b_results.csv\")"
   ]
  },
  {
   "cell_type": "code",
   "execution_count": null,
   "id": "5fc9ef47",
   "metadata": {},
   "outputs": [],
   "source": []
  }
 ],
 "metadata": {
  "kernelspec": {
   "display_name": "Python 3 (ipykernel)",
   "language": "python",
   "name": "python3"
  },
  "language_info": {
   "codemirror_mode": {
    "name": "ipython",
    "version": 3
   },
   "file_extension": ".py",
   "mimetype": "text/x-python",
   "name": "python",
   "nbconvert_exporter": "python",
   "pygments_lexer": "ipython3",
   "version": "3.10.9"
  }
 },
 "nbformat": 4,
 "nbformat_minor": 5
}
