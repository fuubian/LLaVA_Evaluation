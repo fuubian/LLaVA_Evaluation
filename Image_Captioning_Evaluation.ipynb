{
 "cells": [
  {
   "cell_type": "code",
   "execution_count": 1,
   "id": "937d0ce3-7735-48b9-8ab3-59328b60d080",
   "metadata": {},
   "outputs": [
    {
     "name": "stderr",
     "output_type": "stream",
     "text": [
      "/opt/conda/envs/llava/lib/python3.10/site-packages/tqdm/auto.py:21: TqdmWarning: IProgress not found. Please update jupyter and ipywidgets. See https://ipywidgets.readthedocs.io/en/stable/user_install.html\n",
      "  from .autonotebook import tqdm as notebook_tqdm\n"
     ]
    }
   ],
   "source": [
    "from gradio_client import Client\n",
    "import threading\n",
    "import time\n",
    "import subprocess"
   ]
  },
  {
   "cell_type": "code",
   "execution_count": 2,
   "id": "c2f9eca2-64ad-4649-80f5-ca063ea06978",
   "metadata": {},
   "outputs": [],
   "source": [
    "# Define models\n",
    "models = [\"liuhaotian/llava-v1.5-7b\", \"liuhaotian/llava-v1.6-vicuna-7b\", \"liuhaotian/llava-v1.5-13b\", \"liuhaotian/llava-v1.6-vicuna-13b\"]\n",
    "model_names = [\"llava-v1.5-7b\", \"llava-v1.6-vicuna-7b\", \"llava-v1.5-13b\", \"llava-v1.6-vicuna-13b\"]\n",
    "\n",
    "# Select which model to use\n",
    "local_model_index = 3\n",
    "used_model = model_names[local_model_index]"
   ]
  },
  {
   "cell_type": "code",
   "execution_count": 3,
   "id": "fe0f9df2-8ce1-4b7c-b85c-956e3be335dc",
   "metadata": {},
   "outputs": [],
   "source": [
    "# Launch a controller\n",
    "def launch_controller():\n",
    "    !python -m llava.serve.controller --host 0.0.0.0 --port 10000\n",
    "\n",
    "# Launch the model worker\n",
    "def launch_model(model, port):\n",
    "    model_launch = f\"python -m llava.serve.model_worker --host 0.0.0.0 --controller http://localhost:10000 --port {port} --worker http://localhost:{port} --model-path {model} --load-4bit\"\n",
    "    !{model_launch}\n",
    "\n",
    "# Launch a gradio web server\n",
    "def launch_web_server():\n",
    "    !python -m llava.serve.gradio_web_server --controller http://localhost:10000 --model-list-mode reload\n",
    "\n",
    "controller_thread = threading.Thread(target=launch_controller)\n",
    "web_server_thread = threading.Thread(target=launch_web_server)\n",
    "model_thread = threading.Thread(target=launch_model, args=(models[local_model_index], 40000))"
   ]
  },
  {
   "cell_type": "code",
   "execution_count": null,
   "id": "f136fb6e-ccef-4f40-987d-776d274d32b1",
   "metadata": {},
   "outputs": [],
   "source": [
    "# Launch a controller\n",
    "controller_thread.start()\n",
    "\n",
    "# Launch the web server\n",
    "web_server_thread.start()\n",
    "\n",
    "# Launch the model worker\n",
    "model_thread.start()\n",
    "\n",
    "## IMPORTANT: Wait until the model worker has successfully started before proceeding."
   ]
  },
  {
   "cell_type": "code",
   "execution_count": 5,
   "id": "fa61534f-8c09-4605-9ad8-8e95da495c2a",
   "metadata": {},
   "outputs": [],
   "source": [
    "# Defining the prompt template\n",
    "prompt_template = \"Score the image caption on a scale from 1 to 4, with a 1 indicating that the caption does not describe the image at all, \\\n",
    "a 2 indicating the caption describes minor aspects of the image but does not describe the image, a 3 indicating that the caption almost \\\n",
    "describes the image with minor mistakes, and a 4 indicating that the caption describes the image. Your output shall only consist of your score. Image caption: \""
   ]
  },
  {
   "cell_type": "code",
   "execution_count": 6,
   "id": "a732684b-012c-4250-a293-f35f27920162",
   "metadata": {},
   "outputs": [],
   "source": [
    "# Create dictionary for all image captions\n",
    "caption_dict = {}\n",
    "with open(\"Flickr8k_text/Flickr8k.token.txt\", 'r') as file:\n",
    "    for line in file:\n",
    "        parts = line.strip().split('\\t')\n",
    "        caption_dict[parts[0]] = parts[1]"
   ]
  },
  {
   "cell_type": "code",
   "execution_count": null,
   "id": "f42481d6-3eb4-4e9e-8a14-b903a914ea17",
   "metadata": {},
   "outputs": [
    {
     "name": "stdout",
     "output_type": "stream",
     "text": [
      "Loaded as API: http://localhost:7860/ ✔\n",
      "Model: llava-v1.6-vicuna-13b\n",
      "0\n",
      "50\n",
      "100\n",
      "150\n",
      "200\n",
      "250\n",
      "300\n",
      "350\n",
      "400\n",
      "450\n",
      "500\n",
      "550\n"
     ]
    }
   ],
   "source": [
    "# Accessing LLM through API\n",
    "client = Client(\"http://localhost:7860/\")\n",
    "image_directory = \"Flickr8k_Dataset/\"\n",
    "\n",
    "file_name = used_model + \"_results.csv\"\n",
    "\n",
    "with open(\"Flickr8k_text/ExpertAnnotations.txt\", 'r') as file:\n",
    "    print(\"Model:\", used_model)\n",
    "    counter = 0\n",
    "    starting_number = 0\n",
    "    for line in file:\n",
    "        if counter < starting_number:\n",
    "            counter += 1\n",
    "            continue\n",
    "        parts = line.strip().split('\\t')\n",
    "        #print(parts)\n",
    "        image_path = image_directory + \"/\" + parts[0]\n",
    "\n",
    "        # Create prompt\n",
    "        caption_text = caption_dict[parts[1]]\n",
    "        prompt = prompt_template + caption_text\n",
    "\n",
    "        result = client.predict(\n",
    "                prompt,\t# textual input\n",
    "                image_path,\t# filepath  for visual input\n",
    "                \"Default\",\t# Literal['Crop', 'Resize', 'Pad', 'Default']  in 'Preprocess for non-square image' Radio component\n",
    "                api_name=\"/add_text\"\n",
    "        )\n",
    "        result = client.predict(\n",
    "                used_model,\t# Literal['llava-v1.5-7b']  in 'parameter_10' Dropdown component\n",
    "                0,\t# float (numeric value between 0.0 and 1.0) in 'Temperature' Slider component\n",
    "                0,\t# float (numeric value between 0.0 and 1.0) in 'Top P' Slider component\n",
    "                512,\t# float (numeric value between 0 and 1024) in 'Max output tokens' Slider component\n",
    "                api_name=\"/http_bot\"\n",
    "        )\n",
    "\n",
    "        # Compute average expert score\n",
    "        avg_expert_score = round((int(parts[2]) + int(parts[3]) + int(parts[4])) / 3)\n",
    "\n",
    "        # Append result to result file\n",
    "        with open(file_name, 'a') as results_file:\n",
    "            #print(\"Index:\", counter, \"Score:\",result[0][-1], \"Expert-Score\", str(avg_expert_score))\n",
    "            result_line = parts[0] + \";\" + caption_text + \";\" + result[0][-1] + \";\" + str(avg_expert_score) + \"\\n\"\n",
    "            results_file.write(result_line)\n",
    "\n",
    "        if counter % 50 == 0:\n",
    "            print(counter)\n",
    "        counter += 1"
   ]
  },
  {
   "cell_type": "code",
   "execution_count": null,
   "id": "f0e35ba6-d2e9-4b82-8385-96fe86812133",
   "metadata": {},
   "outputs": [],
   "source": []
  }
 ],
 "metadata": {
  "kernelspec": {
   "display_name": "Python 3 (ipykernel)",
   "language": "python",
   "name": "python3"
  },
  "language_info": {
   "codemirror_mode": {
    "name": "ipython",
    "version": 3
   },
   "file_extension": ".py",
   "mimetype": "text/x-python",
   "name": "python",
   "nbconvert_exporter": "python",
   "pygments_lexer": "ipython3",
   "version": "3.10.9"
  }
 },
 "nbformat": 4,
 "nbformat_minor": 5
}
